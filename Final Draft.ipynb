{
 "cells": [
  {
   "cell_type": "code",
   "execution_count": 1,
   "metadata": {},
   "outputs": [
    {
     "data": {
      "text/plain": [
       "<Figure size 640x480 with 1 Axes>"
      ]
     },
     "metadata": {},
     "output_type": "display_data"
    }
   ],
   "source": [
    "from skimage import io, img_as_float\n",
    "import matplotlib.pyplot as plt\n",
    "import imutils\n",
    "import cv2\n",
    "import numpy as np\n",
    "image = img_as_float(cv2.imread('check8.jpg'))\n",
    "img2 = cv2.imread('check8.jpg')\n",
    "white = np.array([0.7,0.7,0.7])\n",
    "mask=np.abs(image - white).sum(axis=2)<0.9\n",
    "coords=np.array(np.nonzero(~mask))\n",
    "top_left=np.min(coords,axis=1)\n",
    "bottom_right=np.max(coords,axis=1)\n",
    "\n",
    "#out=image[top_left[0]:bottom_right[0],\n",
    "#        top_left[1]:bottom_right[1]]\n",
    "\n",
    "out=img2[top_left[0]:bottom_right[0],\n",
    "        top_left[1]:bottom_right[1]]\n",
    "\n",
    "#cv2.imwrite('check4.jpg',out)\n",
    "\n",
    "plt.imshow(out)\n",
    "plt.show()\n",
    "\n",
    "image = out"
   ]
  },
  {
   "cell_type": "code",
   "execution_count": 2,
   "metadata": {},
   "outputs": [
    {
     "name": "stdout",
     "output_type": "stream",
     "text": [
      "pygame 1.9.4\n",
      "Hello from the pygame community. https://www.pygame.org/contribute.html\n"
     ]
    }
   ],
   "source": [
    "from imutils.object_detection import non_max_suppression\n",
    "import numpy as np\n",
    "import pytesseract\n",
    "from gtts import gTTS\n",
    "import cv2\n",
    "from pygame import mixer\n",
    "import time\n",
    "import os\n",
    "\n",
    "image = cv2.imread('check8.jpg')\n",
    "orig = image.copy()\n",
    "orig1 = image.copy()\n",
    "(H, W) = image.shape[:2]\n",
    "(newW, newH) = (320, 320)\n",
    "rW = W / float(newW)\n",
    "rH = H / float(newH)\n",
    "image = cv2.resize(image, (newW, newH))\n",
    "(H, W) = image.shape[:2]"
   ]
  },
  {
   "cell_type": "code",
   "execution_count": 3,
   "metadata": {},
   "outputs": [],
   "source": [
    "cv2.imshow('Test image',orig)\n",
    "cv2.waitKey(0)\n",
    "cv2.destroyAllWindows()"
   ]
  },
  {
   "cell_type": "code",
   "execution_count": 4,
   "metadata": {},
   "outputs": [
    {
     "name": "stdout",
     "output_type": "stream",
     "text": [
      "[INFO] text detection took 0.526698 seconds\n"
     ]
    }
   ],
   "source": [
    "net = cv2.dnn.readNet('frozen_east_text_detection.pb')\n",
    "blob = cv2.dnn.blobFromImage(image, 1.0, (newW,newH),(123.68, 116.78, 103.94), swapRB=True, crop=False)\n",
    "layerNames = [\"feature_fusion/Conv_7/Sigmoid\",\"feature_fusion/concat_3\"]\n",
    "start = time.time()\n",
    "net.setInput(blob)\n",
    "(scores, geometry) = net.forward(layerNames)\n",
    "end = time.time()\n",
    "print(\"[INFO] text detection took {:.6f} seconds\".format(end - start))"
   ]
  },
  {
   "cell_type": "code",
   "execution_count": 5,
   "metadata": {},
   "outputs": [],
   "source": [
    "(numRows, numCols) = scores.shape[2:4]\n",
    "rects = []\n",
    "confidences = []\n",
    "for y in range(0, numRows):\n",
    "    scoresData = scores[0, 0, y]\n",
    "    xData0 = geometry[0, 0, y]\n",
    "    xData1 = geometry[0, 1, y]\n",
    "    xData2 = geometry[0, 2, y]\n",
    "    xData3 = geometry[0, 3, y]\n",
    "    anglesData = geometry[0, 4, y]\n",
    "    for x in range(0, numCols):\n",
    "        if scoresData[x] < 0.5:\n",
    "                continue\n",
    "\n",
    "        (offsetX, offsetY) = (x * 4.0, y * 4.0)\n",
    "\n",
    "        angle = anglesData[x]\n",
    "        cos = np.cos(angle)\n",
    "        sin = np.sin(angle)\n",
    "\n",
    "        h = xData0[x] + xData2[x]\n",
    "        w = xData1[x] + xData3[x]\n",
    "\n",
    "        endX = int(offsetX + (cos * xData1[x]) + (sin * xData2[x]))\n",
    "        endY = int(offsetY - (sin * xData1[x]) + (cos * xData2[x]))\n",
    "        startX = int(endX - w)\n",
    "        startY = int(endY - h)\n",
    "\n",
    "        rects.append((startX, startY, endX, endY))\n",
    "        confidences.append(scoresData[x])"
   ]
  },
  {
   "cell_type": "code",
   "execution_count": 6,
   "metadata": {},
   "outputs": [
    {
     "name": "stdout",
     "output_type": "stream",
     "text": [
      "[((26, 6, 128, 34), 'icici Bank'), ((293, 11, 359, 33), 'AIC Payee ¢'), ((338, 12, 387, 34), 'ee Only'), ((445, 17, 530, 41), '2] 2) 0] 5]2'), ((100, 28, 183, 50), 'ras Pelt er 10'), ((452, 31, 580, 55), '‘DomMmyY Y YY'), ((169, 52, 226, 76), '> Pyt Lid.'), ((118, 53, 175, 76), 'Software'), ((40, 53, 81, 77), 'Virtuz'), ((86, 54, 126, 78), 'Splat {'), ((497, 58, 584, 78), 'QOOORBREER'), ((143, 78, 192, 105), 'i Three'), ((184, 79, 265, 103), '» Hundred And'), ((278, 80, 355, 103), 'eventy One C'), ((85, 80, 145, 105), ': Thousan«'), ((49, 80, 96, 104), 'Three 1'), ((336, 82, 383, 104), 'e Only'), ((6, 84, 50, 106), 'Rupees'), ((460, 102, 526, 126), '\"3371\"'), ((23, 133, 70, 157), ''), ((86, 137, 153, 156), '900405006241'), ((501, 160, 573, 183), 'For Director,'), ((278, 167, 368, 187), 'el Vat b Lintes i nd'), ((199, 167, 273, 188), 'Payers pean'), ((471, 209, 546, 231), 't Software P-'), ((518, 209, 584, 233), 're Pvt Ltd.'), ((25, 210, 81, 231), 'Not Over’'), ((398, 210, 445, 231), 'Virtual'), ((81, 211, 141, 231), 'Than 1000'), ((160, 211, 226, 231), 'n-Negotiable'), ((435, 211, 490, 232), 'al Splat S')]\n"
     ]
    }
   ],
   "source": [
    "boxes = non_max_suppression(np.array(rects), probs=confidences)\n",
    "results = []\n",
    "\n",
    "for (startX, startY, endX, endY) in boxes:\n",
    "# scale the bounding box coordinates based on the respective\n",
    "# ratios\n",
    "    startX = int(startX * rW)-5\n",
    "    startY = int(startY * rH)-5\n",
    "    #endX = int(endX * rW)\n",
    "    #endY = int(endY * rH)\n",
    "    endX = int(endX * rW)+5\n",
    "    endY = int(endY * rH)+5\n",
    "    dX = int((endX - startX) * 0.0)\n",
    "    dY = int((endY - startY) * 0.0)\n",
    "    startX = max(0, startX - dX)\n",
    "    startY = max(0, startY - dY)\n",
    "    roi = orig[startY:endY, startX:endX]\n",
    "    config = (\"-l eng --oem 1 --psm 7\")\n",
    "    pytesseract.pytesseract.tesseract_cmd = 'C:\\\\Program Files\\\\Tesseract-OCR\\\\tesseract.exe'\n",
    "    text = pytesseract.image_to_string(roi, config=config)\n",
    "    results.append(((startX, startY, endX, endY), text))\n",
    "    config = (\"-l eng --oem 1 --psm 7\")\n",
    "    text = pytesseract.image_to_string(roi, config=config)\n",
    "    results.append(((startX, startY, endX, endY), text))\n",
    "results = sorted(results, key=lambda r:r[0][1])\n",
    "results = list(dict.fromkeys(results))\n",
    "print(results)"
   ]
  },
  {
   "cell_type": "code",
   "execution_count": 7,
   "metadata": {},
   "outputs": [
    {
     "data": {
      "text/plain": [
       "-1"
      ]
     },
     "execution_count": 7,
     "metadata": {},
     "output_type": "execute_result"
    }
   ],
   "source": [
    "boxes = non_max_suppression(np.array(rects), probs=confidences)\n",
    "\n",
    "# loop over the bounding boxes\n",
    "for (startX, startY, endX, endY) in boxes:\n",
    "# scale the bounding box coordinates based on the respective\n",
    "# ratios\n",
    "    startX = int(startX * rW)-5\n",
    "    startY = int(startY * rH)-5\n",
    "    endX = int(endX * rW)+5\n",
    "    endY = int(endY * rH)+5\n",
    "    \n",
    "    # draw the bounding box on the image\n",
    "    cv2.rectangle(orig1, (startX, startY), (endX+10, endY+10), (0, 255, 0), 2)\n",
    "\n",
    "# show the output image\n",
    "cv2.imshow(\"Text Detection\", orig1)\n",
    "cv2.waitKey(0)\n"
   ]
  },
  {
   "cell_type": "code",
   "execution_count": 8,
   "metadata": {},
   "outputs": [
    {
     "name": "stdout",
     "output_type": "stream",
     "text": [
      "[28, 132, 206, 175]\n"
     ]
    }
   ],
   "source": [
    "mmH = 320/78\n",
    "mmW = 320/202\n",
    "Y1 = int(mmH*38)\n",
    "Y2 = int(mmH*50)\n",
    "X1 = int(mmW*10)\n",
    "X2 = int(mmW*70)\n",
    "startX = int(X1 * rW)\n",
    "startY = int(Y1 * rH)\n",
    "endX = int(X2 * rW)\n",
    "endY = int(Y2 * rH)\n",
    "account = [startX,startY,endX,endY]\n",
    "print(account)"
   ]
  },
  {
   "cell_type": "code",
   "execution_count": 9,
   "metadata": {},
   "outputs": [
    {
     "name": "stdout",
     "output_type": "stream",
     "text": [
      "[444, 87, 592, 140]\n"
     ]
    }
   ],
   "source": [
    "mmH = 320/78\n",
    "mmW = 320/202\n",
    "Y1 = int(mmH*25)\n",
    "Y2 = int(mmH*40)\n",
    "X1 = int(mmW*150)\n",
    "X2 = int(mmW*200)\n",
    "startX = int(X1 * rW)\n",
    "startY = int(Y1 * rH)\n",
    "endX = int(X2 * rW)\n",
    "endY = int(Y2 * rH)\n",
    "rupee = [startX,startY,endX,endY]\n",
    "print(rupee)"
   ]
  },
  {
   "cell_type": "code",
   "execution_count": 10,
   "metadata": {},
   "outputs": [
    {
     "name": "stdout",
     "output_type": "stream",
     "text": [
      "Amount :  3371\n",
      "Account :  900405006241\n"
     ]
    }
   ],
   "source": [
    "import re\n",
    "\n",
    "x1 = rupee[0]\n",
    "x2 = rupee[2]\n",
    "y1 = rupee[1]\n",
    "y2 = rupee[3]\n",
    "\n",
    "a1 = account[0]\n",
    "b1 = account[1]\n",
    "a2 = account[2]\n",
    "b2 = account[3]\n",
    "\n",
    "\n",
    "for ((startX, startY, endX, endY), text) in results:\n",
    "    startX = int(startX)\n",
    "    startY = int(startY)\n",
    "    endX = int(endX)\n",
    "    endY = int(endY)\n",
    "    if(startX>x1 and startY>y1 and endX<x2 and endY<y2):\n",
    "        text = re.search(r'\\d+',text)\n",
    "        print(\"Amount : \",text.group())\n",
    "    if(startX>a1 and startY>b1 and endX<a2 and endY<b2):\n",
    "        text = re.search('[0-9]{10,16}',text)\n",
    "        print(\"Account : \",text.group())\n"
   ]
  },
  {
   "cell_type": "code",
   "execution_count": 18,
   "metadata": {},
   "outputs": [
    {
     "data": {
      "text/plain": [
       "-1"
      ]
     },
     "execution_count": 18,
     "metadata": {},
     "output_type": "execute_result"
    }
   ],
   "source": [
    "boxes = non_max_suppression(np.array(rects), probs=confidences)\n",
    "\n",
    "# loop over the bounding boxes\n",
    "for (startX, startY, endX, endY) in boxes:\n",
    "# scale the bounding box coordinates based on the respective\n",
    "# ratios\n",
    "    startX = int(startX * rW)-5\n",
    "    startY = int(startY * rH)-5\n",
    "    endX = int(endX * rW)+5\n",
    "    endY = int(endY * rH)+5\n",
    "    \n",
    "    # draw the bounding box on the image\n",
    "    cv2.rectangle(orig1, (startX, startY), (endX+10, endY+10), (0, 255, 0), 2)\n",
    "\n",
    "# show the output image\n",
    "cv2.imshow(\"Text Detection\", orig1)\n",
    "cv2.waitKey(0)"
   ]
  },
  {
   "cell_type": "code",
   "execution_count": 17,
   "metadata": {},
   "outputs": [
    {
     "data": {
      "text/plain": [
       "-1"
      ]
     },
     "execution_count": 17,
     "metadata": {},
     "output_type": "execute_result"
    }
   ],
   "source": [
    "\n",
    "x1 = account[0]\n",
    "x2 = account[2]\n",
    "y1 = account[1]\n",
    "y2 = account[3]\n",
    "\n",
    "temp = cv2.imread('check10.jpg')\n",
    "cv2.rectangle(temp, (x1, y1), (x2, y2), (0, 255, 0), 2)\n",
    "\n",
    "\n",
    "# show the output image\n",
    "cv2.imshow(\"Text Detection\", temp)\n",
    "cv2.waitKey(0)"
   ]
  },
  {
   "cell_type": "code",
   "execution_count": null,
   "metadata": {},
   "outputs": [],
   "source": []
  }
 ],
 "metadata": {
  "kernelspec": {
   "display_name": "Python 3",
   "language": "python",
   "name": "python3"
  },
  "language_info": {
   "codemirror_mode": {
    "name": "ipython",
    "version": 3
   },
   "file_extension": ".py",
   "mimetype": "text/x-python",
   "name": "python",
   "nbconvert_exporter": "python",
   "pygments_lexer": "ipython3",
   "version": "3.7.1"
  }
 },
 "nbformat": 4,
 "nbformat_minor": 2
}
